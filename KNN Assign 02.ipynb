{
 "cells": [
  {
   "cell_type": "code",
   "execution_count": 1,
   "id": "07a355e9-c0ab-4b54-9e4a-60efcfe5e521",
   "metadata": {},
   "outputs": [],
   "source": [
    "#Q1. What is the main difference between the Euclidean distance metric and the Manhattan distance\n",
    "#metric in KNN? How might this difference affect the performance of a KNN classifier or regressor?"
   ]
  },
  {
   "cell_type": "code",
   "execution_count": 3,
   "id": "f62ee0cc-6c9d-4be8-a61c-cdd127d3011f",
   "metadata": {},
   "outputs": [],
   "source": [
    "#Manhattan Distance is the L1 norm form (L1 norm is the sum of the magnitude of vectors in space), while Euclidean\n",
    "#Distance is L2 Norm form (The L2 norm calculates the distance of the vector coordinate from the origin of the \n",
    "#vector space.\n",
    "#Manhattan distance captures the distance between two points by aggregating the pairwise absolute difference\n",
    "#between each variable while Euclidean distance captures the same by aggregating the squared difference in each\n",
    "#variable."
   ]
  },
  {
   "cell_type": "code",
   "execution_count": 4,
   "id": "d5eae06a-bbb5-4c9b-9504-227274cd2a0f",
   "metadata": {},
   "outputs": [],
   "source": [
    "#Q2. How do you choose the optimal value of k for a KNN classifier or regressor? What techniques can be\n",
    "#used to determine the optimal k value?"
   ]
  },
  {
   "cell_type": "code",
   "execution_count": 5,
   "id": "8075297c-06ed-45c1-afa2-4134c875f90a",
   "metadata": {},
   "outputs": [],
   "source": [
    "#The choice of k will largely depend on the input data as data with more outliers or noise will likely perform \n",
    "#better with higher values of k. Overall, it is recommended to have an odd number for k to avoid ties in \n",
    "#classification, and cross-validation tactics can help you choose the optimal k for your dataset.\n",
    "#One can use cross-validation to select the optimal value of k for the k-NN algorithm, which helps improve its \n",
    "#performance and prevent overfitting or underfitting."
   ]
  },
  {
   "cell_type": "code",
   "execution_count": 6,
   "id": "fa6bf47a-ea5c-4920-a12b-4860a5ffb3e1",
   "metadata": {},
   "outputs": [],
   "source": [
    "#Q3. How does the choice of distance metric affect the performance of a KNN classifier or regressor? In\n",
    "#what situations might you choose one distance metric over the other?"
   ]
  },
  {
   "cell_type": "code",
   "execution_count": 8,
   "id": "ac5f4d70-c4f9-4115-84e9-a183c47aabd9",
   "metadata": {},
   "outputs": [],
   "source": [
    "#We mean by the 'best distance metric' (in this review) is the one that allows the KNN to classify test examples\n",
    "#with the highest precision, recall and accuracy, i.e. the one that gives best performance of the KNN in terms of \n",
    "#accuracy.\n",
    "#You should change the K-value from lower values to high values and keep track of all accuracy value. But as whole\n",
    "#if you choose the lower values in kNN your model will learn to predict more locally while if you choose the large \n",
    "#values for kNN your model will learn to predict more globally."
   ]
  },
  {
   "cell_type": "code",
   "execution_count": 9,
   "id": "da391a05-aada-4725-9d71-befdf6b58a2b",
   "metadata": {},
   "outputs": [],
   "source": [
    "#Q4. What are some common hyperparameters in KNN classifiers and regressors, and how do they affect\n",
    "#the performance of the model? How might you go about tuning these hyperparameters to improve\n",
    "#model performance?"
   ]
  },
  {
   "cell_type": "code",
   "execution_count": 11,
   "id": "3a1e76d8-d6d3-4d05-b8a1-3a44835ab4af",
   "metadata": {},
   "outputs": [],
   "source": [
    "#The most important hyperparameter for KNN is the number of neighbors (n_neighbors). Test values between at \n",
    "#least 1 and 21, perhaps just the odd numbers. It may also be interesting to test different distance metrics \n",
    "#(metric) for choosing the composition of the neighborhood.\n",
    "\n",
    "#So then hyperparameter optimization is the process of finding the right combination of hyperparameter values to \n",
    "#achieve maximum performance on the data in a reasonable amount of time. This process plays a vital role in the\n",
    "#prediction accuracy of a machine learning algorithm.\n",
    "\n",
    "#The accuracy of any machine learning model is most often improved by fine-tuning these hyperparameters."
   ]
  },
  {
   "cell_type": "code",
   "execution_count": 12,
   "id": "eb6b4b87-234c-487b-ac1b-01d7ab837ca9",
   "metadata": {},
   "outputs": [],
   "source": [
    "#Q5. How does the size of the training set affect the performance of a KNN classifier or regressor? What\n",
    "#techniques can be used to optimize the size of the training set?"
   ]
  },
  {
   "cell_type": "code",
   "execution_count": 14,
   "id": "b627ebbc-020f-48aa-8a1b-4b94dfa955cb",
   "metadata": {},
   "outputs": [],
   "source": [
    "#So if dataset is large, there will be a lot of processing which may adversely impact the performance of the\n",
    "#algorithm. KNN is also very sensitive to noise in the dataset. If the dataset is large, there are chances of \n",
    "#noise in the dataset which adversely affect the performance of KNN algorithm.\n",
    "#The performance of the K-NN algorithm is influenced by three main factors :\n",
    "#The distance function or distance metric used to determine the nearest neighbors.\n",
    "#The decision rule used to derive a classification from the K-nearest neighbors.\n",
    "#The number of neighbors used to classify the new example."
   ]
  },
  {
   "cell_type": "code",
   "execution_count": 15,
   "id": "ef08a7af-e10e-468b-9b28-17707fb35a05",
   "metadata": {},
   "outputs": [],
   "source": [
    "#Q6. What are some potential drawbacks of using KNN as a classifier or regressor? How might you\n",
    "#overcome these drawbacks to improve the performance of the model?"
   ]
  },
  {
   "cell_type": "code",
   "execution_count": 16,
   "id": "c586755a-537b-4a1a-b4eb-d1ea9de0a43f",
   "metadata": {},
   "outputs": [],
   "source": [
    "#KNN is sensitive to outliers and missing values and hence we first need to impute the missing values and get rid\n",
    "#of the outliers before applying the KNN algorithm.\n",
    "#Some Disadvantages of KNN\n",
    "#Accuracy depends on the quality of the data.\n",
    "#With large data, the prediction stage might be slow.\n",
    "#Sensitive to the scale of the data and irrelevant features.\n",
    "#Require high memory – need to store all of the training data.\n",
    "#Given that it stores all of the training, it can be computationally expensive.\n"
   ]
  },
  {
   "cell_type": "code",
   "execution_count": 17,
   "id": "bd8ad2ae-0dfc-4d83-b6a8-4ec224b94cbe",
   "metadata": {},
   "outputs": [],
   "source": [
    "#Good"
   ]
  },
  {
   "cell_type": "code",
   "execution_count": null,
   "id": "60b7a4b7-5731-48a1-8216-930d655c8671",
   "metadata": {},
   "outputs": [],
   "source": []
  },
  {
   "cell_type": "code",
   "execution_count": null,
   "id": "cd36efc3-0c2e-4ebd-b4b0-9c3b07928480",
   "metadata": {},
   "outputs": [],
   "source": []
  },
  {
   "cell_type": "code",
   "execution_count": null,
   "id": "d47f9218-509b-4ce5-b2e2-246b7628c519",
   "metadata": {},
   "outputs": [],
   "source": []
  },
  {
   "cell_type": "code",
   "execution_count": null,
   "id": "d695ae76-452b-429b-a06f-d203136cb2d8",
   "metadata": {},
   "outputs": [],
   "source": []
  },
  {
   "cell_type": "code",
   "execution_count": null,
   "id": "d1a70375-7231-4b7f-b802-41acbd268aa6",
   "metadata": {},
   "outputs": [],
   "source": []
  },
  {
   "cell_type": "code",
   "execution_count": null,
   "id": "4cf0fa39-83b6-44bc-b169-7c7b6392aef6",
   "metadata": {},
   "outputs": [],
   "source": []
  }
 ],
 "metadata": {
  "kernelspec": {
   "display_name": "Python 3 (ipykernel)",
   "language": "python",
   "name": "python3"
  },
  "language_info": {
   "codemirror_mode": {
    "name": "ipython",
    "version": 3
   },
   "file_extension": ".py",
   "mimetype": "text/x-python",
   "name": "python",
   "nbconvert_exporter": "python",
   "pygments_lexer": "ipython3",
   "version": "3.10.8"
  }
 },
 "nbformat": 4,
 "nbformat_minor": 5
}
